{
  "nbformat": 4,
  "nbformat_minor": 0,
  "metadata": {
    "colab": {
      "provenance": []
    },
    "kernelspec": {
      "name": "python3",
      "display_name": "Python 3"
    },
    "language_info": {
      "name": "python"
    }
  },
  "cells": [
    {
      "cell_type": "markdown",
      "source": [
        "#Хід роботи\n",
        "1. Виконати демонстраційні приклади із даними, сформованими особисто.\n",
        "2. Для одного набору даних (згідно варіанту) отримати оцінку середнього значення, моди, медіани, середньоквадратичного відхилення та дисперсії.\n",
        "3. У висновках пояснити різницю між оцінками середнього значення, моди та медіани, дати смислову оцінку величині дисперсії.\n"
      ],
      "metadata": {
        "id": "Jb_B9VPcQZGg"
      }
    },
    {
      "cell_type": "code",
      "source": [
        "import statistics\n",
        "from fractions import Fraction as F\n",
        "from decimal import Decimal as D\n",
        "import random"
      ],
      "metadata": {
        "id": "j9BYQeu60tOh"
      },
      "execution_count": 91,
      "outputs": []
    },
    {
      "cell_type": "code",
      "execution_count": 114,
      "metadata": {
        "colab": {
          "base_uri": "https://localhost:8080/"
        },
        "id": "CbYmc37r0qSZ",
        "outputId": "b6529629-7e3d-4621-ec15-693376c43959"
      },
      "outputs": [
        {
          "output_type": "stream",
          "name": "stdout",
          "text": [
            "Example 1\n",
            "[13, 41, 60, 94, 95, 79, 34, 32, 90]\n",
            "n\\Mean: 59.77777777777778 \n",
            "Fraction: 545/224 \n",
            "Decimal: 19.60225\n",
            "\n",
            "Example 2\n",
            "RandInt: 26.728378378378377 \n",
            "Triangular: 53.309070593323575\n",
            "\n",
            "Example 3\n",
            "Mode result 1: 94\n",
            "Mode result 2: 37\n",
            "Mode result 3: 25\n",
            "Mode result(animals): lion\n",
            "\n",
            "Example 4\n",
            "Median 1 133\n",
            "Median 2 131\n",
            "Median 3 132\n",
            "Median low: 132\n",
            "Median high: 132\n",
            "\n",
            "Example 5\n",
            "PVariance Result: 1190.9876543209878\n",
            "PStdev Result: 34.51068898647183\n",
            "Variance Result: 3.361111111111111\n",
            "Stdev Result: 1.8333333333333333\n",
            "Variance Fractions Result: 597/64\n"
          ]
        }
      ],
      "source": [
        "# 1\n",
        "print(\"Example 1\")\n",
        "data1 = [random.randint(1, 100) for x in range(9)]\n",
        "mean_res = statistics.mean(data1)\n",
        "frac_res = statistics.mean([F(3, 4), F(43, 56), F(5, 7), F(15, 2)])\n",
        "dec_res = statistics.mean([D(\"3.4\"), D(\"1.23\"), D(\"66.99\"), D(\"6.789\")])\n",
        "print(data1)\n",
        "print(f\"n\\Mean:\", mean_res, \"\\nFraction:\", frac_res, \"\\nDecimal:\", dec_res)\n",
        "\n",
        "# 2\n",
        "print(\"\\nExample 2\")\n",
        "data_points = [random.randint(3, 50) for x in range(5, 745)]\n",
        "dp_res1 = statistics.mean(data_points)\n",
        "data_points2 = [random.triangular(7, 66, 90) for x in range(7, 3068)]\n",
        "dp_res2 = statistics.mean(data_points2)\n",
        "print(\"RandInt:\", dp_res1, \"\\nTriangular:\", dp_res2)\n",
        "\n",
        "# 3\n",
        "print(\"\\nExample 3\")\n",
        "for i in range(3):\n",
        "    data2 = [random.randint(1, 100) for x in range(1, 1001)]\n",
        "    result = statistics.mode(data2)\n",
        "    print(f\"Mode result {i + 1}:\", result)\n",
        "animals = [\"elephant\", \"lion\", \"lion\", \"elephant\", \"giraffe\", \"giraffe\", \"lion\"]\n",
        "result = statistics.mode(animals)\n",
        "print(\"Mode result(animals):\", result)\n",
        "\n",
        "# 4\n",
        "print(\"\\nExample 4\")\n",
        "for i in range(3):\n",
        "  data4 = [random.randint(6, 259) for x in range(768, 6969)]\n",
        "  result4 = statistics.median(data4)\n",
        "  print(f\"Median {i + 1}\", result4)\n",
        "print(\"Median low:\", statistics.median_low(data4))\n",
        "print(\"Median high:\",statistics.median_high(data4))\n",
        "\n",
        "# 5\n",
        "print(\"\\nExample 5\")\n",
        "new_data = [random.randint(1, 99) for i in range(9)]\n",
        "new_more_data = [random.randint(3, 7) for j in range(9)]\n",
        "new_fractions = [F(7, 56), F(23, 4), F(7, 8)]\n",
        "\n",
        "pvariance_result = statistics.pvariance(new_data)\n",
        "pstdev_result = statistics.pstdev(new_data)\n",
        "variance_result = statistics.variance(new_more_data)\n",
        "stdev_result = statistics.stdev(new_more_data)\n",
        "variance_fractions_result = statistics.variance(new_fractions)\n",
        "\n",
        "print(f\"PVariance Result: {pvariance_result}\")\n",
        "print(f\"PStdev Result: {pstdev_result}\")\n",
        "print(f\"Variance Result: {variance_result}\")\n",
        "print(f\"Stdev Result: {stdev_result}\")\n",
        "print(f\"Variance Fractions Result: {variance_fractions_result}\")"
      ]
    },
    {
      "cell_type": "code",
      "source": [
        "# Input\n",
        "course = [56, 58, 48, 50, 260, 5, 160, 125, 44, 16]\n",
        "speed = [36, 250, 58, 100, 160, 163, 240, 158, 165, 50]\n",
        "time = [2, 9, 24, 25, 28, 16, 18, 22, 6, 16]\n",
        "# Calc\n",
        "mean_course = statistics.mean(course)\n",
        "mode_course = statistics.mode(course)\n",
        "median_course = statistics.median(course)\n",
        "stdev_course = statistics.stdev(course)\n",
        "pvariance_course = statistics.pvariance(course)\n",
        "\n",
        "mean_speed = statistics.mean(speed)\n",
        "mode_speed = statistics.mode(speed)\n",
        "median_speed = statistics.median(speed)\n",
        "stdev_speed = statistics.stdev(speed)\n",
        "pvariance_speed = statistics.pvariance(speed)\n",
        "\n",
        "mean_time = statistics.mean(time)\n",
        "mode_time = statistics.mode(time)\n",
        "median_time = statistics.median(time)\n",
        "stdev_time = statistics.stdev(time)\n",
        "pvariance_time = statistics.pvariance(time)\n",
        "# Output\n",
        "print(\"Course:\")\n",
        "print(\"Mean:\", mean_course)\n",
        "print(\"Mode:\", mode_course)\n",
        "print(\"Median:\", median_course)\n",
        "print(\"Standard Deviation:\", stdev_course)\n",
        "print(\"PVariance:\", pvariance_course)\n",
        "\n",
        "print(\"\\nSpeed:\")\n",
        "print(\"Mean:\", mean_speed)\n",
        "print(\"Mode:\", mode_speed)\n",
        "print(\"Median:\", median_speed)\n",
        "print(\"Standard Deviation:\", stdev_speed)\n",
        "print(\"PVariance:\", pvariance_speed)\n",
        "\n",
        "print(\"\\nTime:\")\n",
        "print(\"Mean:\", mean_time)\n",
        "print(\"Mode:\", mode_time)\n",
        "print(\"Median:\", median_time)\n",
        "print(\"Standard Deviation:\", stdev_time)\n",
        "print(\"PVariance:\", pvariance_time)"
      ],
      "metadata": {
        "colab": {
          "base_uri": "https://localhost:8080/"
        },
        "id": "oDPo6kvt003P",
        "outputId": "aea8fdab-37bb-407e-8c6a-149fe3095ece"
      },
      "execution_count": 99,
      "outputs": [
        {
          "output_type": "stream",
          "name": "stdout",
          "text": [
            "Course:\n",
            "Mean: 82.2\n",
            "Mode: 56\n",
            "Median: 53.0\n",
            "Standard Deviation: 78.01538309846335\n",
            "PVariance: 5477.76\n",
            "\n",
            "Speed:\n",
            "Mean: 138\n",
            "Mode: 36\n",
            "Median: 159.0\n",
            "Standard Deviation: 75.40851705506775\n",
            "PVariance: 5117.8\n",
            "\n",
            "Time:\n",
            "Mean: 16.6\n",
            "Mode: 16\n",
            "Median: 17.0\n",
            "Standard Deviation: 8.630694577430537\n",
            "PVariance: 67.04\n"
          ]
        }
      ]
    },
    {
      "cell_type": "markdown",
      "source": [
        "#ВИСНОВКИ\n",
        "У ході виконання лабораторної роботи було проведено дослідження статистичних методів в мові програмування Python. Проведено аналіз трьох наборів даних, пов'язаних із курсом, швидкістю та часом руху літака. Застосовано модуль statistics для обчислення різних характеристик наборів даних.\n",
        "\n",
        "Було виконано аналіз середнього значення, моди, медіани, середньоквадратичного відхилення та дисперсії для різних наборів даних. Для цього використовувались функції, такі як mean, mode, median, stdev, variance, pvariance, і pstdev.\n",
        "\n",
        "Використання засобів Python, зокрема модулю statistics, робить обчислення статистичних показників зручним та ефективним.\n",
        "\n",
        "У висновках важливо відзначити різницю між середнім значенням, модою та медіаною. Середнє значення є арифметичним середнім і враховує всі значення, в той час як мода представляє собою значення, що найчастіше зустрічається, а медіана - значення, розташоване по середині впорядкованого набору даних.\n",
        "\n",
        "Смислова оцінка величини дисперсії важлива для розуміння ступеня розсіювання даних. У нашому випадку велика дисперсія вказує на значні відхилення від середнього значення, що може свідчити про різноманітність та нерівномірність розподілу. Величина дисперсії відображає ступінь коливань даних і може бути корисною для подальшого аналізу та прийняття рішень.\n",
        "\n",
        "Course:\n",
        "\n",
        "* Середнє значення (Mean): Середнє значення курсу складає 82.2 градуса.\n",
        "* Мода (Mode): Найчастіше зустрічається значення курсу - 56 градусів.\n",
        "* Медіана (Median): Медіанне значення курсу становить 53.0 градуса.\n",
        "* Стандартне відхилення (Standard Deviation): Стандартне відхилення велике (78.02), що може вказувати на значні коливання значень навколо середнього.\n",
        "* Дисперсія (Population Variance): Велика дисперсія (5477.76) підтверджує великі відхилення даних від середнього значення.\n",
        "\n",
        "Speed:\n",
        "\n",
        "* Середнє значення (Mean): Середня швидкість - 138 км/год.\n",
        "* Мода (Mode): Найчастіше зустрічається значення швидкості - 36 км/год.\n",
        "* Медіана (Median): Медіанна швидкість - 159.0 км/год.\n",
        "* Стандартне відхилення (Standard Deviation): Стандартне відхилення становить 75.41, що також свідчить про значні коливання швидкостей.\n",
        "* Дисперсія (Population Variance): Велика дисперсія (5117.8) підтверджує великі відхилення швидкостей від середнього значення.\n",
        "\n",
        "Time:\n",
        "\n",
        "* Середнє значення (Mean): Середній час руху - 16.6 хвилин.\n",
        "* Мода (Mode): Значення моди - 16 хвилин.\n",
        "* Медіана (Median): Медіанний час - 17.0 хвилин.\n",
        "* Стандартне відхилення (Standard Deviation): Стандартне відхилення складає 8.63, що може вказувати на значні коливання часу руху.\n",
        "* Дисперсія (Population Variance): Дисперсія (67.04) підтверджує великі відхилення часу руху від середнього значення."
      ],
      "metadata": {
        "id": "gr1bZaUTAwE5"
      }
    }
  ]
}